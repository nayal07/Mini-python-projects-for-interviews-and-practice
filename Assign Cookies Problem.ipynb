{
 "cells": [
  {
   "cell_type": "markdown",
   "id": "0c343aa7",
   "metadata": {},
   "source": [
    "Assign Cookies Problem\n",
    "\n",
    "In the assign cookies problem, you will be given a list of children with their greed factors and a list of cookies with their sizes. To solve this problem, you need to assign each child a cookie such that the child’s greed factor is less than or equal to the size of the cookie. For example, look at the input and output of this problem shown below:\n",
    "\n",
    "    Number of children with greed factors (g): [1, 2, 3], Number of cookies with their sizes (s): [1, 1] | Output: 1\n",
    "\n",
    "In this example, there are two cookies with size 1, but only one child with a desired cookie size of 1. So, even though there are two cookies, only one child can be satisfied. That is why the output returns 1, as only one cookie is needed to satisfy the one child with a desired size of 1."
   ]
  },
  {
   "cell_type": "code",
   "execution_count": 1,
   "id": "99bc6d79",
   "metadata": {},
   "outputs": [],
   "source": [
    "import numpy as np"
   ]
  },
  {
   "cell_type": "code",
   "execution_count": 2,
   "id": "79bed32c",
   "metadata": {},
   "outputs": [
    {
     "name": "stdout",
     "output_type": "stream",
     "text": [
      "0\n"
     ]
    }
   ],
   "source": [
    "def findContentChildren(g,s):\n",
    "    i=0\n",
    "    j=0\n",
    "    g=sorted(g)\n",
    "    s=sorted(s)\n",
    "    \n",
    "    while i< len(g) and j<len(s):\n",
    "        i += len(g) <= s[i]\n",
    "        j= j+1\n",
    "    return i\n",
    "\n",
    "g= [1,2,3]\n",
    "s=[1,1]\n",
    "print(findContentChildren(g,s))"
   ]
  },
  {
   "cell_type": "code",
   "execution_count": null,
   "id": "3fc539c5",
   "metadata": {},
   "outputs": [],
   "source": []
  }
 ],
 "metadata": {
  "kernelspec": {
   "display_name": "Python 3 (ipykernel)",
   "language": "python",
   "name": "python3"
  },
  "language_info": {
   "codemirror_mode": {
    "name": "ipython",
    "version": 3
   },
   "file_extension": ".py",
   "mimetype": "text/x-python",
   "name": "python",
   "nbconvert_exporter": "python",
   "pygments_lexer": "ipython3",
   "version": "3.9.7"
  }
 },
 "nbformat": 4,
 "nbformat_minor": 5
}
