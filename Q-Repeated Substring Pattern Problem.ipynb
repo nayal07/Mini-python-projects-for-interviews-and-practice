{
 "cells": [
  {
   "cell_type": "markdown",
   "id": "ec1f8e91",
   "metadata": {},
   "source": [
    "Repeated Substring Pattern Problem\n",
    "\n",
    "In the Repeated Substring Pattern problem, you will be given a string. To solve this problem, you need to check if the given string can be formed by repeating a substring of the string. For example, look at the input and output of this problem shown below:\n",
    "\n",
    "    Input: “abab” | Output: True\n",
    "\n",
    "In this example, there’s a string given as an input “abab”. And when a substring (“ab”) of the string (“abab”) is repeated twice, it forms the string as given in the input. So the output is true!"
   ]
  },
  {
   "cell_type": "code",
   "execution_count": 17,
   "id": "063339aa",
   "metadata": {},
   "outputs": [
    {
     "name": "stdout",
     "output_type": "stream",
     "text": [
      "True\n"
     ]
    }
   ],
   "source": [
    "def repeatedstringpattern(s):\n",
    "    string=(s+s)[1:-1]\n",
    "    return string.find(s) != -1\n",
    "\n",
    "print(repeatedstringpattern(\"abcabcabcabc\"))"
   ]
  },
  {
   "cell_type": "code",
   "execution_count": null,
   "id": "c7e600a9",
   "metadata": {},
   "outputs": [],
   "source": []
  }
 ],
 "metadata": {
  "kernelspec": {
   "display_name": "Python 3 (ipykernel)",
   "language": "python",
   "name": "python3"
  },
  "language_info": {
   "codemirror_mode": {
    "name": "ipython",
    "version": 3
   },
   "file_extension": ".py",
   "mimetype": "text/x-python",
   "name": "python",
   "nbconvert_exporter": "python",
   "pygments_lexer": "ipython3",
   "version": "3.9.7"
  }
 },
 "nbformat": 4,
 "nbformat_minor": 5
}
