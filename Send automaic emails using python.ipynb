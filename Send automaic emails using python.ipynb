{
 "cells": [
  {
   "cell_type": "markdown",
   "id": "af2f414d",
   "metadata": {},
   "source": [
    "# Send Automatic Emails using Python\n",
    "\n",
    "It is very important to generate a Google app password for your Gmail account, as you will be sending automatic emails using Python through your Gmail account. Once you’ve generated your Google app password, here’s how you can start the task of sending emails using Python:"
   ]
  },
  {
   "cell_type": "markdown",
   "id": "0527ae6c",
   "metadata": {},
   "source": [
    "To send automatic emails using Python, you must first understand how to send an email using the Python programming language. Once you know how to send an email using Python, the next thing you need to figure out is what you want to send automatically. For example, many companies send OTP or welcome messages, while some companies even send newsletters to newly registered users.\n",
    "\n",
    "So in the section below, I will take you through how to send automatic emails using Python. I will automatically send a welcome message to the newly registered user. For this task, you must first generate a google app password for your Gmail account. If you don’t know how to generate it, you can learn more from the video below.\n",
    "https://youtu.be/ndxUgivCszE"
   ]
  },
  {
   "cell_type": "code",
   "execution_count": null,
   "id": "67fd2d2a",
   "metadata": {},
   "outputs": [],
   "source": [
    "import os\n",
    "import random\n",
    "import smtplib\n"
   ]
  },
  {
   "cell_type": "code",
   "execution_count": null,
   "id": "d9b3f050",
   "metadata": {},
   "outputs": [],
   "source": [
    "def automatic_email():\n",
    "    user = input(\"ENter Your name >>: \")\n",
    "    email = input(\"Enter Your Email >>: \")\n",
    "    message =(f\"Dear {user}, Welcome To PureFitness\")\n",
    "    s= smtplib.SMTP('smtp.gmail.com', 587)\n",
    "    s.starttls()\n",
    "    s.login(\"ppppppppp\", \"xxxxxxxx\")\n",
    "    s.sendmail('&&&&&&&&&&&&', email, message)\n",
    "    print(\"Email Sent\")\n",
    "    \n",
    "automatic_email()"
   ]
  },
  {
   "cell_type": "markdown",
   "id": "c6bcbced",
   "metadata": {},
   "source": [
    "Then in the 7th line of the code above, you need to replace the first parameter with your email and the second parameter with the google app password you generated before."
   ]
  }
 ],
 "metadata": {
  "kernelspec": {
   "display_name": "Python 3 (ipykernel)",
   "language": "python",
   "name": "python3"
  },
  "language_info": {
   "codemirror_mode": {
    "name": "ipython",
    "version": 3
   },
   "file_extension": ".py",
   "mimetype": "text/x-python",
   "name": "python",
   "nbconvert_exporter": "python",
   "pygments_lexer": "ipython3",
   "version": "3.9.7"
  }
 },
 "nbformat": 4,
 "nbformat_minor": 5
}
