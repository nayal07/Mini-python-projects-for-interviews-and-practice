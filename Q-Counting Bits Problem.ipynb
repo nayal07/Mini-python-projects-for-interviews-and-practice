{
 "cells": [
  {
   "cell_type": "markdown",
   "id": "cb944b36",
   "metadata": {},
   "source": [
    "Counting Bits Problem\n",
    "\n",
    "In the counting bits problem, you will be given an integer n. To solve this problem, return an array of the length n + 1 where the elements will be the number of 1’s present in the binary representation of the index number of each value in the array.\n",
    "\n",
    "For example, look at the input and output of this problem shown below:\n",
    "\n",
    "Input: 5\n",
    "Output: [0, 1, 1, 2, 1, 2]\n",
    "\n",
    "The output array contains the number of 1’s in the binary representation of the index number of each element in the array. Index numbers and their binary representations when the input is 5: [0: 0, 1: 1, 2: 10, 3: 11, 4: 100, 5: 101]"
   ]
  },
  {
   "cell_type": "code",
   "execution_count": 20,
   "id": "e76cd32c",
   "metadata": {},
   "outputs": [
    {
     "name": "stdout",
     "output_type": "stream",
     "text": [
      "[0, 1, 1, 2, 1, 2, 2, 3, 1, 2, 2, 3, 2, 3, 3, 4, 1, 2, 2, 3, 2]\n"
     ]
    }
   ],
   "source": [
    "def countbits(num):\n",
    "    counter = [0]\n",
    "    if num>=1:\n",
    "        while len(counter) <= num:\n",
    "            counter = counter + [i +1 for i in counter]\n",
    "        return counter[:num+1]\n",
    "    else:\n",
    "        return 0\n",
    "print(countbits(20))"
   ]
  },
  {
   "cell_type": "code",
   "execution_count": null,
   "id": "c0f06dc6",
   "metadata": {},
   "outputs": [],
   "source": []
  },
  {
   "cell_type": "code",
   "execution_count": null,
   "id": "2bf199ae",
   "metadata": {},
   "outputs": [],
   "source": []
  }
 ],
 "metadata": {
  "kernelspec": {
   "display_name": "Python 3 (ipykernel)",
   "language": "python",
   "name": "python3"
  },
  "language_info": {
   "codemirror_mode": {
    "name": "ipython",
    "version": 3
   },
   "file_extension": ".py",
   "mimetype": "text/x-python",
   "name": "python",
   "nbconvert_exporter": "python",
   "pygments_lexer": "ipython3",
   "version": "3.9.7"
  }
 },
 "nbformat": 4,
 "nbformat_minor": 5
}
