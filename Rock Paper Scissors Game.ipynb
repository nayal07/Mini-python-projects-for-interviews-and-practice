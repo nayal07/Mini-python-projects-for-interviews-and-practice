{
 "cells": [
  {
   "cell_type": "markdown",
   "id": "e1221059",
   "metadata": {},
   "source": [
    "Rock Paper Scissors Game using Python\n",
    "\n",
    "To create and play rock paper scissors, I will be using the if and elif statements in Python. I will prepare this game to be played between two players. Player-1 will be the user, and player-2 will be the computer. Player one will manually select the rock paper or scissor, while player two will choose randomly. So I will also use the random module in Python to create this game.\n",
    "\n",
    "I hope you now have understood everything about the rock, paper, and scissors game and how I will create it. Now, below is how we can write a Python script to create and play rock paper scissors using Python:"
   ]
  },
  {
   "cell_type": "code",
   "execution_count": 8,
   "id": "31681933",
   "metadata": {},
   "outputs": [
    {
     "name": "stdout",
     "output_type": "stream",
     "text": [
      "Select Rock , Paper, or Scissor :scissor\n",
      "Player2 selected : paper\n",
      "Player 1 won\n"
     ]
    }
   ],
   "source": [
    "import random\n",
    "\n",
    "player1 = input(\"Select Rock , Paper, or Scissor :\").lower()\n",
    "player2=random.choice([\"Rock\", \"Paper\",\"Scissor\"]).lower()\n",
    "print(\"Player2 selected :\", player2)\n",
    "\n",
    "\n",
    "if player1 ==\"rock\" and player2 ==\"paper\":\n",
    "    print(\"Player 2 Won\")\n",
    "elif player1 ==\"paper\" and player2 ==\"scissor\":\n",
    "    print(\"player 1 Won\")\n",
    "elif player1== \"scissor\" and player2 ==\"rock\":\n",
    "    print(\"player 2 won\")\n",
    "elif player1==player2:\n",
    "    print(\"Tie\")\n",
    "else:\n",
    "    print(\"Player 1 won\")"
   ]
  },
  {
   "cell_type": "code",
   "execution_count": null,
   "id": "312ab670",
   "metadata": {},
   "outputs": [],
   "source": []
  }
 ],
 "metadata": {
  "kernelspec": {
   "display_name": "Python 3 (ipykernel)",
   "language": "python",
   "name": "python3"
  },
  "language_info": {
   "codemirror_mode": {
    "name": "ipython",
    "version": 3
   },
   "file_extension": ".py",
   "mimetype": "text/x-python",
   "name": "python",
   "nbconvert_exporter": "python",
   "pygments_lexer": "ipython3",
   "version": "3.9.7"
  }
 },
 "nbformat": 4,
 "nbformat_minor": 5
}
